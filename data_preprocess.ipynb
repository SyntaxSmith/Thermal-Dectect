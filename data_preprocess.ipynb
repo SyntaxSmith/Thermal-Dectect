{
 "cells": [
  {
   "cell_type": "code",
   "execution_count": 1,
   "metadata": {},
   "outputs": [],
   "source": [
    "from PIL import Image"
   ]
  },
  {
   "attachments": {},
   "cell_type": "markdown",
   "metadata": {},
   "source": [
    "读取Json文件，将坐标转换为yolo格式，然后将图片和标签分别保存到train.txt和test.txt中"
   ]
  },
  {
   "cell_type": "code",
   "execution_count": 2,
   "metadata": {},
   "outputs": [],
   "source": [
    "import os\n",
    "import json\n",
    "root_data_path='data/train/'"
   ]
  },
  {
   "cell_type": "code",
   "execution_count": 12,
   "metadata": {},
   "outputs": [],
   "source": [
    "import shutil\n",
    "def locate_transfer(file,label):\n",
    "    #将给出的绝对像素左上角坐标转换为yolo的中心点相对坐标\n",
    "    img=Image.open(file)\n",
    "    img_shape=img.size\n",
    "    x_center=label[0]+label[2]//2\n",
    "    y_center=label[1]+label[3]//2\n",
    "    x_center=x_center/img_shape[0]\n",
    "    y_center=y_center/img_shape[1]\n",
    "    width=label[2]/img_shape[0]\n",
    "    height=label[3]/img_shape[1]\n",
    "    return f'0 {x_center} {y_center} {width} {height}'\n",
    "    \n",
    "video_folder_list=os.listdir(root_data_path)\n",
    "for video_folder in video_folder_list:\n",
    "    video_folder_path=os.path.join(root_data_path,video_folder)\n",
    "    labels=json.load(open(os.path.join(video_folder_path,'IR_label.json')))\n",
    "    #print(labels)\n",
    "    exist=labels['exist']\n",
    "    gt_rect=labels['gt_rect']\n",
    "    for i in range(len(exist)):\n",
    "        if exist[i]==1:# 目标存在\n",
    "            filename=str(i+1).zfill(6)\n",
    "            # 拷贝图片\n",
    "            shutil.copy(os.path.join(video_folder_path,filename+'.jpg'),os.path.join('dataset','images','train',video_folder+'_'+filename+'.jpg'))\n",
    "            # 生成标注\n",
    "            label=gt_rect[i]\n",
    "            label=locate_transfer(os.path.join(video_folder_path,filename+'.jpg'),label)\n",
    "            with open(os.path.join('dataset','labels','train',video_folder+'_'+filename+'.txt'),'w+') as f:\n",
    "                f.write(label)\n",
    "    "
   ]
  },
  {
   "cell_type": "code",
   "execution_count": 5,
   "metadata": {},
   "outputs": [],
   "source": [
    "# 将部分train数据集转移到val数据集\n",
    "from random import shuffle\n",
    "import shutil\n",
    "import os\n",
    "\n",
    "val_rate=0.1\n",
    "train_img_path='dataset/images/train/'\n",
    "train_label_path='dataset/labels/train/'\n",
    "val_img_path='dataset/images/val/'\n",
    "val_label_path='dataset/labels/val/'\n",
    "\n",
    "img_list=os.listdir(train_img_path)\n",
    "shuffle(img_list) # 打乱顺序\n",
    "val_num=int(len(img_list)*val_rate)\n",
    "for i in range(val_num):\n",
    "    img_name=img_list[i]\n",
    "    shutil.move(os.path.join(train_img_path,img_name),os.path.join(val_img_path,img_name))\n",
    "    shutil.move(os.path.join(train_label_path,img_name[:-4]+'.txt'),os.path.join(val_label_path,img_name[:-4]+'.txt'))"
   ]
  }
 ],
 "metadata": {
  "kernelspec": {
   "display_name": "Python 3",
   "language": "python",
   "name": "python3"
  },
  "language_info": {
   "codemirror_mode": {
    "name": "ipython",
    "version": 3
   },
   "file_extension": ".py",
   "mimetype": "text/x-python",
   "name": "python",
   "nbconvert_exporter": "python",
   "pygments_lexer": "ipython3",
   "version": "3.10.9"
  },
  "orig_nbformat": 4
 },
 "nbformat": 4,
 "nbformat_minor": 2
}
